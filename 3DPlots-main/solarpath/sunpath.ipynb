{
 "cells": [
  {
   "cell_type": "code",
   "execution_count": 1,
   "id": "22b80edf-0f5c-46f6-9b52-d094f126f4ce",
   "metadata": {},
   "outputs": [],
   "source": [
    "import numpy as np\n",
    "import plotly.graph_objects as go\n"
   ]
  },
  {
   "cell_type": "markdown",
   "id": "4d7c7236-f316-49a8-bc36-8cb7211697b5",
   "metadata": {},
   "source": [
    "## Sun Path"
   ]
  },
  {
   "cell_type": "code",
   "execution_count": null,
   "id": "563f890d-e313-4c79-aae2-7ae7a8a75efb",
   "metadata": {},
   "outputs": [],
   "source": []
  }
 ],
 "metadata": {
  "kernelspec": {
   "display_name": "Python 3",
   "language": "python",
   "name": "python3"
  },
  "language_info": {
   "codemirror_mode": {
    "name": "ipython",
    "version": 3
   },
   "file_extension": ".py",
   "mimetype": "text/x-python",
   "name": "python",
   "nbconvert_exporter": "python",
   "pygments_lexer": "ipython3",
   "version": "3.8.8"
  }
 },
 "nbformat": 4,
 "nbformat_minor": 5
}
