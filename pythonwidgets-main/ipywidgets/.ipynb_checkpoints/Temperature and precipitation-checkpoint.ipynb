{
 "cells": [
  {
   "cell_type": "code",
   "execution_count": 1,
   "id": "a313ec22-d2d5-428e-87ca-f4c74b565dc7",
   "metadata": {},
   "outputs": [],
   "source": [
    "try:\n",
    "    import piplite \n",
    "    await piplite.install(['ipywidgets', 'ipyleaflet', 'numpy', 'bqplot', 'pandas'])\n",
    "except ImportError:\n",
    "        pass"
   ]
  },
  {
   "cell_type": "code",
   "execution_count": 2,
   "id": "0e2ee3ec-6ae3-4ae5-934a-885c72a23150",
   "metadata": {},
   "outputs": [],
   "source": [
    "from ipyleaflet import Map, basemaps, basemap_to_tiles, Heatmap, TileLayer\n",
    "from ipywidgets import AppLayout\n",
    "from ipywidgets import HTML, Layout, Dropdown, Output, Textarea, VBox, Label\n",
    "import bqplot as bq\n",
    "import numpy as np\n",
    "from pandas import date_range"
   ]
  },
  {
   "cell_type": "code",
   "execution_count": 3,
   "id": "94faca76-3dea-4188-89ab-be92df7a7e0b",
   "metadata": {},
   "outputs": [],
   "source": [
    "OWM_API_KEY = \"http://maps.openweathermap.org/maps/2.0/weather/{op}/{z}/{x}/{y}?appid={API key}\""
   ]
  },
  {
   "cell_type": "code",
   "execution_count": 4,
   "id": "e0a63c54-5094-4422-8b98-5f4bab9a8464",
   "metadata": {},
   "outputs": [],
   "source": [
    "m = Map(center=(52, 10), zoom=5, basemap=basemaps.OpenStreetMap.Mapnik)"
   ]
  },
  {
   "cell_type": "code",
   "execution_count": 5,
   "id": "d8fc7b38-76eb-40df-896e-799a41ae603d",
   "metadata": {},
   "outputs": [],
   "source": [
    "maps = {\n",
    "    'Mapnik':basemaps.OpenStreetMap.Mapnik,\n",
    "    'Esri': basemaps.Esri.DeLorme\n",
    "}"
   ]
  },
  {
   "cell_type": "code",
   "execution_count": 6,
   "id": "86c490a2-10c8-4d81-b57d-2d9bdf22e813",
   "metadata": {},
   "outputs": [],
   "source": [
    "header = HTML(\"<h1>Fictional world weather</h1>\", layout = Layout(height='auto'))\n",
    "header.style.text_align = 'center'\n",
    "basemap_selector = Dropdown(options = list(maps.keys()),\n",
    "                           layout=Layout(width='auto'))\n",
    "heatmap_selector = Dropdown(options=('Temperature', 'Precipitation'),\n",
    "                           layout=Layout(width='auto'))"
   ]
  },
  {
   "cell_type": "code",
   "execution_count": 7,
   "id": "a2d363ec-0ad7-4a4b-824b-85e4960c03b0",
   "metadata": {},
   "outputs": [],
   "source": [
    "basemap_selector.value = 'Mapnik'\n",
    "m.layout.height = '600px'"
   ]
  },
  {
   "cell_type": "code",
   "execution_count": 8,
   "id": "3c12a364-746a-493b-bcbf-28e96b07ca6e",
   "metadata": {},
   "outputs": [],
   "source": [
    "security_1 = np.cumsum(np.random.randn(150)) +100.\n",
    "dates = date_range(start='01-01-2022', periods=150)\n",
    "dt_x = bq.DateScale()\n",
    "sc_y = bq.LinearScale()\n",
    "\n",
    "time_series = bq.Lines(x=dates, y= security_1, scales = {'x':dt_x, 'y':sc_y})\n",
    "ax_x = bq.Axis(scale = dt_x)\n",
    "ax_y = bq.Axis(scale = sc_y, orientation='vertical')\n",
    "\n",
    "fig=bq.Figure(marks = [time_series], axes = [ax_x, ax_y],\n",
    "             fig_margin=dict(top=0, bottom = 80, left=30, right=20))\n"
   ]
  },
  {
   "cell_type": "code",
   "execution_count": 9,
   "id": "528f41b2-1c03-4e2d-9073-0989808b188d",
   "metadata": {},
   "outputs": [],
   "source": [
    "m.layout.width = 'auto'\n",
    "m.layout.height = 'auto'\n",
    "fig.layout.width = 'auto'\n",
    "fig.layout.heigh = 'auto'\n"
   ]
  },
  {
   "cell_type": "code",
   "execution_count": 10,
   "id": "863a6e45-64e7-4520-8d6e-888c12c221b2",
   "metadata": {},
   "outputs": [],
   "source": [
    "out = HTML(value ='',\n",
    "          layout=Layout(width = 'auto', height = 'auto')\n",
    "          )"
   ]
  },
  {
   "cell_type": "code",
   "execution_count": null,
   "id": "6e25f851-23ad-43f2-adef-a0795ef76f35",
   "metadata": {},
   "outputs": [],
   "source": [
    "AppLayout(center = m,\n",
    "         header = header,\n",
    "         left_sidebar=VBox([Label('Basemap:'),\n",
    "                           basemap_selector,\n",
    "                           Label(\"Overlay:\"),\n",
    "                           heatmap_selector]))"
   ]
  }
 ],
 "metadata": {
  "kernelspec": {
   "display_name": "Python 3",
   "language": "python",
   "name": "python3"
  },
  "language_info": {
   "codemirror_mode": {
    "name": "ipython",
    "version": 3
   },
   "file_extension": ".py",
   "mimetype": "text/x-python",
   "name": "python",
   "nbconvert_exporter": "python",
   "pygments_lexer": "ipython3",
   "version": "3.8.8"
  }
 },
 "nbformat": 4,
 "nbformat_minor": 5
}
