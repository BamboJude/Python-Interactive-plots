{
 "cells": [
  {
   "cell_type": "markdown",
   "id": "c15915bf-4fed-490b-ae94-a8c908d9f2ee",
   "metadata": {},
   "source": [
    "# New Functions from Old Functions, Part 2:<br>Interactive Parabola Plot and Numerical Integration"
   ]
  },
  {
   "cell_type": "markdown",
   "id": "ae51e40f-1b77-4227-a553-edb246f23d0c",
   "metadata": {},
   "source": [
    "2022-05-08, V001, Rolf Becker, Jude-Afanyu Bambo\n",
    "\n",
    "The discussion on how to create new functions from old functions is inspired by the math book Calculus by J. Stewart.\n",
    "\n",
    "In an earlier notebook we investigated the effect of several parameters in functions to influence their shape: How can a function be shifted in x or y direction, or flipped along x- or y-axis, respectively? How can the function be stretched or cimpressed?\n",
    "\n",
    "This notebook allows interactive modifications of a parabola in the so-called **vertex form**: $ f(x) = c(x-x_0)^2 + y_0 $\n",
    "\n",
    "The two parameters $x_0$ and $y_0$ determine the position of the parabola's extremum (min or max). The parameter $c$ stretches or compresses the parabola and determines if the curve is concave up ($c>0$) or concave down ($c<0$). \n",
    "\n",
    "This notebook also introduces interactive plots based on matplotlib. Here only slider widgets are used to change the parameters.\n",
    "\n",
    "Numerical integration with `numpy.trapz()` based on trapezoids is performed. `numpy.trapz()` uses x and y values \n",
    "\n",
    "Furthermore $\\LaTeX$ (aka mathjax) strings for pretty math formula rendering are used in the plot. The plot title shows the actual quadratic formula of the parabola in vertex form.  "
   ]
  },
  {
   "cell_type": "code",
   "execution_count": 1,
   "id": "3102d5ed-a49d-4e80-ba22-76e7f3be0ee8",
   "metadata": {},
   "outputs": [],
   "source": [
    "import numpy as np\n",
    "import matplotlib.pyplot as plt\n",
    "from ipywidgets import interactive, widgets, HBox,Layout, VBox\n",
    "import random\n",
    "import pandas as pd\n",
    "import ipympl\n",
    "import mplcursors\n",
    "from IPython.display import display, clear_output"
   ]
  },
  {
   "cell_type": "markdown",
   "id": "42d4610e-2bf2-4375-8134-29b2fa443cfd",
   "metadata": {},
   "source": [
    "## Define the funtion\n",
    "\n",
    "$ f(x) = c(x-x_0)^2 + y_0 $"
   ]
  },
  {
   "cell_type": "code",
   "execution_count": 2,
   "id": "4b27c888-8c44-412c-b1e5-5d49c6afda64",
   "metadata": {},
   "outputs": [],
   "source": [
    "def f(x, x0=0, y0=0, C=1):\n",
    "    return C*(x-x0)**2 + y0"
   ]
  },
  {
   "cell_type": "markdown",
   "id": "e1d1ff29-a993-4372-8c2f-ced828b8b7da",
   "metadata": {},
   "source": [
    "## Create the plot title mathjax string to render the formula appealingly.\n",
    "\n",
    "The quadratic function $f(x) = c(x-x_0)^2 + y_0$ should be rendered differently dependent on the parameter values.<br>An example for ugly rendering to be avoided: $f(x) = 1(x-0)^2 + 0$. Instead it should be rendered like this: $f(x)=x^2$.\n",
    "\n",
    "* Full rendering:<br>$f(x) = 0.5(x-2)^2 + 2$. \n",
    "* Remove paretheses if $x_0=0$:<br>$f(x) = 0.5x^2 + 2$\n",
    "* Remove $c$ if $c=1$:<br>$f(x) = x^2 + 2$\n",
    "* Remove terms in $x$ if $c = 0$, i.e. $f$ is just constant:<br>$f(x) = 2$\n",
    "\n"
   ]
  },
  {
   "cell_type": "code",
   "execution_count": 3,
   "id": "08f446be-b1c4-40e5-90a8-938bec9e3b9c",
   "metadata": {},
   "outputs": [],
   "source": [
    "# create mathjax text to render the quadratic function\n",
    "def mytitle(x0=0, y0=0, c=1):\n",
    "    if x0 == 0:\n",
    "        s1 = f\"x^2\"\n",
    "    elif x0 > 0:\n",
    "        s1 = f\"(x-{x0})^2\"\n",
    "    else:\n",
    "        s1 = f\"(x+{abs(x0)})^2\"\n",
    "        \n",
    "    if y0 == 0:\n",
    "        s2 = \"\"\n",
    "    else:\n",
    "        s2 = f\" + {y0}\"\n",
    "        \n",
    "    if c == 1:\n",
    "        s0 = \"\"\n",
    "    else:\n",
    "        s0 = f\"{c}\"\n",
    "    \n",
    "    if c == 0:\n",
    "        s = f\"$f(x) = {y0}$\"\n",
    "    else:    \n",
    "        s = f\"$f(x) = \" + s0 + s1 + s2 + \"$\"\n",
    "\n",
    "    return s"
   ]
  },
  {
   "cell_type": "code",
   "execution_count": 4,
   "id": "a9957c04-ab10-497f-b440-7d2e8e1b2e33",
   "metadata": {},
   "outputs": [],
   "source": [
    "def myinttext(a=0, b=1, I=0, n=3):\n",
    "    sa = f\"{a}\"\n",
    "    sb = f\"{b}\"\n",
    "        \n",
    "    s = r\"$\\int_{\" + sa + \"}^{\" + sb + \"} f(x)dx = \" + f\"{I:.{n}g}$\"\n",
    "    \n",
    "    return s"
   ]
  },
  {
   "cell_type": "code",
   "execution_count": 5,
   "id": "d627bb24-3113-49e5-a3c2-f92f4d099936",
   "metadata": {},
   "outputs": [],
   "source": [
    "\n",
    "def plotter1(x0=0, y0=0, c=0.5, a=0, b=3):\n",
    "    x1 = np.arange(-10,10,0.01)\n",
    "    y1 = f(x1,x0,y0,c)\n",
    "\n",
    "    idx = (x1 >= a - 0.0001) & (x1 <= b + 0.0001) # compensate rounding errors\n",
    "    I1 = np.trapz(y1[idx],x1[idx])\n",
    "\n",
    "    s1 = mytitle(x0,y0,c) # title string\n",
    "    t1 = myinttext(a, b, I1)\n",
    " \n",
    "    fig1,ax1=plt.subplots(figsize=(4,4), dpi=136, subplot_kw={'aspect': 'equal'})\n",
    "    ax1.plot(x1,y1)\n",
    "    ax1.grid(True)\n",
    "\n",
    "    # fill area under the curve which is the integral\n",
    "    ax1.fill_between(x1, y1, 0, where = (x1 >= a - 0.0001) & (x1 <= b + 0.0001), color = 'g')\n",
    "    \n",
    "    # print rendered quadratic formula as title\n",
    "    ax1.set_title(s1,fontsize=16)\n",
    "    \n",
    "    # print rendered integral formula. Vert. position dept. on graph\n",
    "    if c >= 0:\n",
    "        yt = y0-2\n",
    "    else:\n",
    "        yt = y0+1 \n",
    "    \n",
    "    xt = 0\n",
    "    ax1.text(xt, yt, t1, fontsize=16, ha = \"center\")\n",
    "\n",
    "    \n",
    "    ax1.set_xlabel(\"$x$\")\n",
    "    ax1.set_xlim(-5,5)\n",
    "    ax1.set_xticks(np.arange(-5,6))\n",
    "\n",
    "    ax1.set_ylabel(\"$y$\")\n",
    "    ax1.set_ylim(-5,5)\n",
    "    ax1.set_yticks(np.arange(-5,6))\n",
    "    \n",
    "   \n",
    "\n",
    "\n",
    "       \n",
    "    plt.show()\n",
    "   "
   ]
  },
  {
   "cell_type": "code",
   "execution_count": 6,
   "id": "cc2bd608-e35b-4be7-a206-fd865447c265",
   "metadata": {},
   "outputs": [],
   "source": [
    "iplot1 = interactive(\n",
    "    plotter1, \n",
    "    x0=(-4,4,0.1), \n",
    "    y0=(-4,4,0.1), \n",
    "    c=(-2,2,0.1),\n",
    "    a=(-4,4,0.1),\n",
    "    b=(-4,4,0.1),\n",
    "   \n",
    "\n",
    ")\n",
    "\n"
   ]
  },
  {
   "cell_type": "code",
   "execution_count": 7,
   "id": "57abfb66-b974-491b-84e5-3f6a26df336c",
   "metadata": {},
   "outputs": [],
   "source": [
    "controls = HBox(iplot1.children[:-1], layout = Layout(flex_flow='column wrap', width='auto', height='auto'))\n",
    "output = iplot1.children[-1]"
   ]
  },
  {
   "cell_type": "code",
   "execution_count": 8,
   "id": "fd442dcf-5ba9-4c20-ad95-7f5923725a48",
   "metadata": {},
   "outputs": [],
   "source": [
    "left_box = VBox([controls])\n",
    "right_box = VBox([output])\n",
    "iplot1=HBox([left_box, right_box])"
   ]
  },
  {
   "cell_type": "code",
   "execution_count": 9,
   "id": "da6f0c5e-4698-4ac2-8070-4a6e827142ff",
   "metadata": {},
   "outputs": [
    {
     "data": {
      "application/vnd.jupyter.widget-view+json": {
       "model_id": "40ffa6607ae341fa944d5d35238a3b8d",
       "version_major": 2,
       "version_minor": 0
      },
      "text/plain": [
       "HBox(children=(VBox(children=(HBox(children=(FloatSlider(value=0.0, description='x0', max=4.0, min=-4.0), Floa…"
      ]
     },
     "metadata": {},
     "output_type": "display_data"
    }
   ],
   "source": [
    "iplot1\n"
   ]
  },
  {
   "cell_type": "code",
   "execution_count": null,
   "id": "5e07b1b8-03c5-4fc5-9111-e79f49ab36a4",
   "metadata": {},
   "outputs": [],
   "source": []
  },
  {
   "cell_type": "code",
   "execution_count": null,
   "id": "869f4814-4184-456a-833f-f457861a0431",
   "metadata": {},
   "outputs": [],
   "source": []
  },
  {
   "cell_type": "code",
   "execution_count": null,
   "id": "f47f048d-60a1-4ca7-81ee-33290c842c45",
   "metadata": {},
   "outputs": [],
   "source": []
  },
  {
   "cell_type": "code",
   "execution_count": null,
   "id": "3ebbe1d0-ad4c-4d30-ae23-d28e665624be",
   "metadata": {},
   "outputs": [],
   "source": []
  }
 ],
 "metadata": {
  "kernelspec": {
   "display_name": "Python 3",
   "language": "python",
   "name": "python3"
  },
  "language_info": {
   "codemirror_mode": {
    "name": "ipython",
    "version": 3
   },
   "file_extension": ".py",
   "mimetype": "text/x-python",
   "name": "python",
   "nbconvert_exporter": "python",
   "pygments_lexer": "ipython3",
   "version": "3.8.8"
  }
 },
 "nbformat": 4,
 "nbformat_minor": 5
}
