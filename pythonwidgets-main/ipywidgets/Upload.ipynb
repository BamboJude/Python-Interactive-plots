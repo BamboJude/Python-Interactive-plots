{
 "cells": [
  {
   "cell_type": "code",
   "execution_count": 1,
   "id": "1f38fc51-4011-43af-a0e7-77ede79f0ff6",
   "metadata": {},
   "outputs": [],
   "source": [
    "import ipywidgets as widgets\n",
    "from IPython.display import display"
   ]
  },
  {
   "cell_type": "code",
   "execution_count": 2,
   "id": "5b7f7744-a7d5-48c8-b344-9312a7d9fa14",
   "metadata": {},
   "outputs": [],
   "source": [
    "main_display = widgets.Output()"
   ]
  },
  {
   "cell_type": "code",
   "execution_count": 3,
   "id": "2d21d4e9-cd3d-4a8f-8f00-0adf01319a25",
   "metadata": {},
   "outputs": [
    {
     "data": {
      "application/vnd.jupyter.widget-view+json": {
       "model_id": "1d4b1503edf84d76b82e6803d98799b8",
       "version_major": 2,
       "version_minor": 0
      },
      "text/plain": [
       "Output()"
      ]
     },
     "metadata": {},
     "output_type": "display_data"
    }
   ],
   "source": [
    "main_display"
   ]
  },
  {
   "cell_type": "code",
   "execution_count": 4,
   "id": "21ea8e85-f3ee-4301-9f86-360c0236b0c2",
   "metadata": {},
   "outputs": [],
   "source": [
    "def display_file(inputs):\n",
    "    with main_display:\n",
    "        main_display.clear_output()\n",
    "        display(list(inputs['new'].keys())[-1])\n",
    "        \n",
    "\n",
    "\n",
    "    "
   ]
  },
  {
   "cell_type": "code",
   "execution_count": 5,
   "id": "ec85d476-f40c-440c-87e4-448df7730042",
   "metadata": {},
   "outputs": [],
   "source": [
    "upload = widgets.FileUpload(\n",
    "accept = 'csv',\n",
    "multiple = False)\n",
    "upload.observe(display_file, names = 'value')"
   ]
  },
  {
   "cell_type": "code",
   "execution_count": 6,
   "id": "f4a09b28-8fb2-4297-b5ce-242d0efad489",
   "metadata": {},
   "outputs": [
    {
     "data": {
      "application/vnd.jupyter.widget-view+json": {
       "model_id": "0f475482ecdf404aa89369c222b965c8",
       "version_major": 2,
       "version_minor": 0
      },
      "text/plain": [
       "FileUpload(value={}, accept='csv', description='Upload')"
      ]
     },
     "metadata": {},
     "output_type": "display_data"
    }
   ],
   "source": [
    "upload"
   ]
  },
  {
   "cell_type": "code",
   "execution_count": null,
   "id": "bd90f704-3e67-438c-97f8-e9e74ac708e7",
   "metadata": {},
   "outputs": [],
   "source": []
  }
 ],
 "metadata": {
  "kernelspec": {
   "display_name": "Python 3",
   "language": "python",
   "name": "python3"
  },
  "language_info": {
   "codemirror_mode": {
    "name": "ipython",
    "version": 3
   },
   "file_extension": ".py",
   "mimetype": "text/x-python",
   "name": "python",
   "nbconvert_exporter": "python",
   "pygments_lexer": "ipython3",
   "version": "3.8.8"
  }
 },
 "nbformat": 4,
 "nbformat_minor": 5
}
