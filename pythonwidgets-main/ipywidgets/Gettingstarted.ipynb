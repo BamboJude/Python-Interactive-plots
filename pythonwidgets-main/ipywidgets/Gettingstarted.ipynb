{
 "cells": [
  {
   "cell_type": "code",
   "execution_count": 1,
   "id": "d5cfdfdd-994d-4dfd-9b48-69acdddc9d8b",
   "metadata": {},
   "outputs": [],
   "source": [
    "%matplotlib widget \n",
    "import ipywidgets as widgets\n",
    "import numpy as np\n",
    "import matplotlib.pyplot as plt"
   ]
  },
  {
   "cell_type": "markdown",
   "id": "f3edbf48-2f4e-4ddf-a166-d7254ebab1c6",
   "metadata": {},
   "source": [
    "## Making python interactive using ipywidget libraries"
   ]
  },
  {
   "cell_type": "markdown",
   "id": "97f3d697-532e-4150-bf11-6b42f758c22e",
   "metadata": {},
   "source": [
    "## Basic Interact\n",
    "interact auto generates UI controls for function arguments and then calls the function with those arguments when you manipulate the controls interactively.\n",
    "To use interact you need to define a function that you want to explore. In the example below, a quadratic function will be used to illustrate how interact works."
   ]
  },
  {
   "cell_type": "markdown",
   "id": "04dc5a4a-5a67-4d96-8da0-91b748f924ca",
   "metadata": {},
   "source": [
    " ### Sliders\n"
   ]
  },
  {
   "cell_type": "code",
   "execution_count": 2,
   "id": "878cefd8-5bc9-48f1-919e-7be70da03710",
   "metadata": {},
   "outputs": [
    {
     "data": {
      "application/vnd.jupyter.widget-view+json": {
       "model_id": "b9ed23f447694ddf91f821382f66ab1b",
       "version_major": 2,
       "version_minor": 0
      },
      "text/plain": [
       "interactive(children=(IntSlider(value=1, description='x', max=3, min=-1), Output()), _dom_classes=('widget-int…"
      ]
     },
     "metadata": {},
     "output_type": "display_data"
    }
   ],
   "source": [
    "def f(x):\n",
    "    return x**2\n",
    "widgets.interact(f, x=1); ## x is set a default value of 1, trying moving the slider, a function is called and you'll see that the values change\n"
   ]
  },
  {
   "cell_type": "markdown",
   "id": "204fac55-a513-4d41-bbe2-7f9f6261d61e",
   "metadata": {},
   "source": [
    "### check box\n",
    "If you pass True or false interact will generates a check box"
   ]
  },
  {
   "cell_type": "code",
   "execution_count": 3,
   "id": "90b98334-37a4-415c-bbb6-7bf1ae9ca9b7",
   "metadata": {},
   "outputs": [
    {
     "data": {
      "application/vnd.jupyter.widget-view+json": {
       "model_id": "11a8378a1f564986b8d14303bc47aa8b",
       "version_major": 2,
       "version_minor": 0
      },
      "text/plain": [
       "interactive(children=(Checkbox(value=True, description='x'), Output()), _dom_classes=('widget-interact',))"
      ]
     },
     "metadata": {},
     "output_type": "display_data"
    }
   ],
   "source": [
    "def select(x):\n",
    "    print()\n",
    "widgets.interact(select, x=True);"
   ]
  },
  {
   "cell_type": "markdown",
   "id": "9499d5a9-e2c2-4739-aadb-ce555d207bc0",
   "metadata": {},
   "source": [
    "### Text box"
   ]
  },
  {
   "cell_type": "code",
   "execution_count": 4,
   "id": "4931eb0d-fb6e-46a4-b746-2b83d88efc45",
   "metadata": {},
   "outputs": [
    {
     "data": {
      "application/vnd.jupyter.widget-view+json": {
       "model_id": "8ab08250d8274f2d802f88719da8358c",
       "version_major": 2,
       "version_minor": 0
      },
      "text/plain": [
       "interactive(children=(Text(value='', description='name'), Output()), _dom_classes=('widget-interact',))"
      ]
     },
     "metadata": {},
     "output_type": "display_data"
    }
   ],
   "source": [
    "def write_here(name):\n",
    "       print(f'My name is  {name}')\n",
    "    \n",
    "widgets.interact(write_here, name='');"
   ]
  },
  {
   "cell_type": "markdown",
   "id": "bd617879-acc9-457f-a96b-b53c01e9b137",
   "metadata": {},
   "source": [
    "## combobox"
   ]
  },
  {
   "cell_type": "code",
   "execution_count": 10,
   "id": "0ee364cc-eff4-4567-b18d-2550c0ba2590",
   "metadata": {},
   "outputs": [
    {
     "data": {
      "application/vnd.jupyter.widget-view+json": {
       "model_id": "041d730e1f7a4bb08a85dcd48611cc15",
       "version_major": 2,
       "version_minor": 0
      },
      "text/plain": [
       "Combobox(value='', description='Combobox:', ensure_option=True, options=('pen', 'pencil', 'phone', 'Knife'), p…"
      ]
     },
     "metadata": {},
     "output_type": "display_data"
    }
   ],
   "source": [
    "## make sure the Combobox starts with a capital C not c.\n",
    "widgets.Combobox(  \n",
    "placeholder = 'Choose an object',\n",
    "    options = ['pen', 'pencil', 'phone','Knife'],\n",
    "    description='Combobox:',\n",
    "    ensure_option = True,\n",
    "    disabled = False\n",
    ")"
   ]
  },
  {
   "cell_type": "markdown",
   "id": "537c4d88-62d8-40db-8b86-7a53ce0423c1",
   "metadata": {},
   "source": [
    "## Password"
   ]
  },
  {
   "cell_type": "code",
   "execution_count": 11,
   "id": "7c2ec6d7-36f8-4c1b-a1c2-34443d346d1a",
   "metadata": {},
   "outputs": [
    {
     "data": {
      "application/vnd.jupyter.widget-view+json": {
       "model_id": "ae31f75ccca746079e7e6dd7697647c4",
       "version_major": 2,
       "version_minor": 0
      },
      "text/plain": [
       "Password(description='password:', placeholder='Enter Password:')"
      ]
     },
     "metadata": {},
     "output_type": "display_data"
    }
   ],
   "source": [
    "widgets.Password(\n",
    "value = 'password',\n",
    "    placeholder = 'Enter Password:',\n",
    "    description = 'password:',\n",
    "    disabled = False\n",
    ")"
   ]
  },
  {
   "cell_type": "markdown",
   "id": "9c9f837f-1a36-4ef2-8db7-1df97b25ca8c",
   "metadata": {},
   "source": [
    "## Label"
   ]
  },
  {
   "cell_type": "markdown",
   "id": "2f2c8ac2-e97c-4576-b503-7955087eb906",
   "metadata": {},
   "source": [
    "The label widget is used to build custom description."
   ]
  },
  {
   "cell_type": "code",
   "execution_count": 23,
   "id": "3943f358-e0a7-46ce-8a83-e470b6c3f10c",
   "metadata": {},
   "outputs": [
    {
     "data": {
      "application/vnd.jupyter.widget-view+json": {
       "model_id": "b656bc0d8251475aadaae3bc3b883463",
       "version_major": 2,
       "version_minor": 0
      },
      "text/plain": [
       "HBox(children=(Label(value='m'), FloatSlider(value=0.0)))"
      ]
     },
     "metadata": {},
     "output_type": "display_data"
    }
   ],
   "source": [
    "widgets.HBox([widgets.Label(value=\"m\"), widgets.FloatSlider()])"
   ]
  },
  {
   "cell_type": "markdown",
   "id": "d2c6930b-1ea2-4459-a41d-f0075b0aad0e",
   "metadata": {},
   "source": [
    "## Radiobuttons"
   ]
  },
  {
   "cell_type": "code",
   "execution_count": 30,
   "id": "4f599c49-d843-4b9b-b148-f72334f773b5",
   "metadata": {},
   "outputs": [
    {
     "data": {
      "application/vnd.jupyter.widget-view+json": {
       "model_id": "6f8b284fdebc40ed884164a6453a952b",
       "version_major": 2,
       "version_minor": 0
      },
      "text/plain": [
       "RadioButtons(description='Pizza lovers:', options=('Alice', 'Stas', 'Matvei', 'Manolo'), value='Alice')"
      ]
     },
     "metadata": {},
     "output_type": "display_data"
    }
   ],
   "source": [
    "widgets.RadioButtons(\n",
    "\n",
    "options=['Alice', 'Stas', 'Matvei', 'Manolo'],\n",
    "description='Pizza lovers:',\n",
    "disabled=False)"
   ]
  },
  {
   "cell_type": "markdown",
   "id": "f0871d09-a2fb-4f5c-9f9d-2ecbffebc7d9",
   "metadata": {},
   "source": [
    "## Select"
   ]
  },
  {
   "cell_type": "code",
   "execution_count": 31,
   "id": "dfa96787-3fe1-4ebb-9381-0b983f2ef59e",
   "metadata": {},
   "outputs": [
    {
     "data": {
      "application/vnd.jupyter.widget-view+json": {
       "model_id": "76639a045a074320bb667234acdcdff3",
       "version_major": 2,
       "version_minor": 0
      },
      "text/plain": [
       "Select(options=('pen', 'pencil', 'avocado'), value='pen')"
      ]
     },
     "metadata": {},
     "output_type": "display_data"
    }
   ],
   "source": [
    "widgets.Select(\n",
    "options=['pen', 'pencil', 'avocado'],\n",
    "value = 'pen',\n",
    "disabled = False, orientation='horizontal')"
   ]
  },
  {
   "cell_type": "markdown",
   "id": "3bda3365-9754-4a3a-9553-5c7848b94125",
   "metadata": {},
   "source": [
    "## SelectionSlider"
   ]
  },
  {
   "cell_type": "code",
   "execution_count": 34,
   "id": "d4392302-aad2-4ce0-af29-cd74208d1587",
   "metadata": {},
   "outputs": [
    {
     "data": {
      "application/vnd.jupyter.widget-view+json": {
       "model_id": "22cf810202284fac8b403c7c642fb967",
       "version_major": 2,
       "version_minor": 0
      },
      "text/plain": [
       "SelectionSlider(description='right', options=('pen', 'pencil', 'avocado'), value='pen')"
      ]
     },
     "metadata": {},
     "output_type": "display_data"
    }
   ],
   "source": [
    "widgets.SelectionSlider(\n",
    "    options = ['pen', 'pencil', 'avocado'],\n",
    "    value = 'pen', description ='left',\n",
    "    disabled = False, \n",
    "    continious_update=False,\n",
    "    orientation='horizontal',\n",
    "    readout=True\n",
    "\n",
    "\n",
    ")"
   ]
  },
  {
   "cell_type": "code",
   "execution_count": null,
   "id": "c9195356-bb24-401c-99cb-18db05d04cc5",
   "metadata": {},
   "outputs": [],
   "source": []
  }
 ],
 "metadata": {
  "kernelspec": {
   "display_name": "Python 3",
   "language": "python",
   "name": "python3"
  },
  "language_info": {
   "codemirror_mode": {
    "name": "ipython",
    "version": 3
   },
   "file_extension": ".py",
   "mimetype": "text/x-python",
   "name": "python",
   "nbconvert_exporter": "python",
   "pygments_lexer": "ipython3",
   "version": "3.8.8"
  }
 },
 "nbformat": 4,
 "nbformat_minor": 5
}
