{
 "cells": [
  {
   "cell_type": "code",
   "execution_count": 1,
   "id": "a313ec22-d2d5-428e-87ca-f4c74b565dc7",
   "metadata": {},
   "outputs": [],
   "source": [
    "try:\n",
    "    import piplite \n",
    "    await piplite.install(['ipywidgets', 'ipyleaflet', 'numpy', 'bqplot', 'pandas'])\n",
    "except ImportError:\n",
    "        pass"
   ]
  },
  {
   "cell_type": "code",
   "execution_count": 2,
   "id": "0e2ee3ec-6ae3-4ae5-934a-885c72a23150",
   "metadata": {},
   "outputs": [],
   "source": [
    "from ipyleaflet import Map, basemaps, basemap_to_tiles, Heatmap, TileLayer\n",
    "from ipywidgets import AppLayout\n",
    "from ipywidgets import HTML, Layout, Dropdown, Output, Textarea, VBox, Label\n",
    "import bqplot as bq\n",
    "import numpy as np\n",
    "from pandas import date_range"
   ]
  },
  {
   "cell_type": "code",
   "execution_count": 3,
   "id": "94faca76-3dea-4188-89ab-be92df7a7e0b",
   "metadata": {},
   "outputs": [],
   "source": [
    "OWM_API_KEY = \"https://maps.openweathermap.org/maps/2.0/radar/{z}\""
   ]
  },
  {
   "cell_type": "code",
   "execution_count": 4,
   "id": "e0a63c54-5094-4422-8b98-5f4bab9a8464",
   "metadata": {},
   "outputs": [],
   "source": [
    "m = Map(center=(52, 10), zoom=5, basemap=basemaps.OpenStreetMap.Mapnik)"
   ]
  },
  {
   "cell_type": "code",
   "execution_count": 5,
   "id": "d8fc7b38-76eb-40df-896e-799a41ae603d",
   "metadata": {},
   "outputs": [],
   "source": [
    "maps = {\n",
    "    'Mapnik':basemaps.OpenStreetMap.Mapnik,\n",
    "    'Esri': basemaps.Esri.DeLorme\n",
    "}"
   ]
  },
  {
   "cell_type": "code",
   "execution_count": 6,
   "id": "86c490a2-10c8-4d81-b57d-2d9bdf22e813",
   "metadata": {},
   "outputs": [],
   "source": [
    "header = HTML(\"<h1>Fictional world weather</h1>\", layout = Layout(height='auto'))\n",
    "header.style.text_align = 'center'\n",
    "basemap_selector = Dropdown(options = list(maps.keys()),\n",
    "                           layout=Layout(width='auto'))\n",
    "heatmap_selector = Dropdown(options=('Temperature', 'Precipitation'),\n",
    "                           layout=Layout(width='auto'))"
   ]
  },
  {
   "cell_type": "code",
   "execution_count": 7,
   "id": "a2d363ec-0ad7-4a4b-824b-85e4960c03b0",
   "metadata": {},
   "outputs": [],
   "source": [
    "basemap_selector.value = 'Mapnik'\n",
    "m.layout.height = '600px'"
   ]
  },
  {
   "cell_type": "code",
   "execution_count": 8,
   "id": "3c12a364-746a-493b-bcbf-28e96b07ca6e",
   "metadata": {},
   "outputs": [],
   "source": [
    "security_1 = np.cumsum(np.random.randn(150)) +100.\n",
    "dates = date_range(start='01-01-2022', periods=150)\n",
    "dt_x = bq.DateScale()\n",
    "sc_y = bq.LinearScale()\n",
    "\n",
    "time_series = bq.Lines(x=dates, y= security_1, scales = {'x':dt_x, 'y':sc_y})\n",
    "ax_x = bq.Axis(scale = dt_x)\n",
    "ax_y = bq.Axis(scale = sc_y, orientation='vertical')\n",
    "\n",
    "fig=bq.Figure(marks = [time_series], axes = [ax_x, ax_y],\n",
    "             fig_margin=dict(top=0, bottom = 80, left=30, right=20))\n"
   ]
  },
  {
   "cell_type": "code",
   "execution_count": 9,
   "id": "528f41b2-1c03-4e2d-9073-0989808b188d",
   "metadata": {},
   "outputs": [],
   "source": [
    "m.layout.width = 'auto'\n",
    "m.layout.height = 'auto'\n",
    "fig.layout.width = 'auto'\n",
    "fig.layout.heigh = 'auto'\n"
   ]
  },
  {
   "cell_type": "code",
   "execution_count": 10,
   "id": "863a6e45-64e7-4520-8d6e-888c12c221b2",
   "metadata": {},
   "outputs": [],
   "source": [
    "out = HTML(value ='',\n",
    "          layout=Layout(width = 'auto', height = 'auto')\n",
    "          )"
   ]
  },
  {
   "cell_type": "code",
   "execution_count": 11,
   "id": "6e25f851-23ad-43f2-adef-a0795ef76f35",
   "metadata": {},
   "outputs": [
    {
     "data": {
      "application/vnd.jupyter.widget-view+json": {
       "model_id": "56b2e5212def40a88c37c5ceff292018",
       "version_major": 2,
       "version_minor": 0
      },
      "text/plain": [
       "AppLayout(children=(HTML(value='<h1>Fictional world weather</h1>', layout=Layout(grid_area='header', height='a…"
      ]
     },
     "metadata": {},
     "output_type": "display_data"
    }
   ],
   "source": [
    "AppLayout(center = m,\n",
    "         header = header,\n",
    "         left_sidebar=VBox([Label('Basemap:'),\n",
    "                           basemap_selector,\n",
    "                           Label(\"Overlay:\"),\n",
    "                           heatmap_selector]),\n",
    "         right_sidebar = fig,\n",
    "         footer=out, \n",
    "         pane_widths=['80px',1,1],\n",
    "         pane_heights = ['80px', 4,1],\n",
    "         heights ='600px',\n",
    "         grid_gap=\"30px\")"
   ]
  },
  {
   "cell_type": "code",
   "execution_count": 12,
   "id": "1fcab7ee-ae9b-4be8-b699-1a1b82e33dda",
   "metadata": {},
   "outputs": [],
   "source": [
    "rows =[]"
   ]
  },
  {
   "cell_type": "code",
   "execution_count": 13,
   "id": "d0e6ea25-488a-49b3-91fd-ba55ecc3a2ca",
   "metadata": {},
   "outputs": [],
   "source": [
    "X, Y = np.mgrid[-90:90:10j, -180:180:20j]"
   ]
  },
  {
   "cell_type": "code",
   "execution_count": 14,
   "id": "468b56c2-2723-4222-92d8-e6f7af696f7d",
   "metadata": {},
   "outputs": [],
   "source": [
    "X = X.flatten()\n",
    "Y = Y.flatten()"
   ]
  },
  {
   "cell_type": "code",
   "execution_count": 15,
   "id": "60b218ab-6571-49c5-b468-3f4f07da92f8",
   "metadata": {},
   "outputs": [],
   "source": [
    "temps = np.random.randn(200, 150)*0.5"
   ]
  },
  {
   "cell_type": "code",
   "execution_count": 16,
   "id": "390d9397-ca73-4411-8bb8-b889df781f33",
   "metadata": {},
   "outputs": [],
   "source": [
    "from datetime import datetime"
   ]
  },
  {
   "cell_type": "code",
   "execution_count": 17,
   "id": "c2be4b75-0d57-4495-975a-00ddcd0b3c88",
   "metadata": {},
   "outputs": [],
   "source": [
    "import random"
   ]
  },
  {
   "cell_type": "code",
   "execution_count": 18,
   "id": "bfefd479-326f-4b25-8545-f760686ec732",
   "metadata": {},
   "outputs": [],
   "source": [
    "def add_log(msg):\n",
    "    max_rows = 3\n",
    "    rows.append(msg)\n",
    "    if len(rows) > max_rows:\n",
    "        rows.pop(0)\n",
    "        return '<h4>Activity Log</h4><ul>{}</ul>'.format('<li>'.join(['']+rows))\n",
    "    \n",
    "def generate_temp_series(x,y):\n",
    "    if heatmap_selector.value == 'Precipitation':\n",
    "        temp = np.cumsum(np.random.randn(150))+100.\n",
    "    elif heatmap_selector.value == 'Temperature':\n",
    "            dist = np.sqrt((X-x)**2+(Y-y)**2)/100\n",
    "            dist = dist.max()-dist\n",
    "            dist[dist>np.percentile(dist, 5)] = 0\n",
    "            temp = np.cumsum(np.dot(dist, temps)+0.05)+20 -np.abs(x)/2\n",
    "            time_series.y = temp\n",
    "def handle_interaction(**kwargs):\n",
    "    if kwargs['type'] == 'click':\n",
    "        generate_temp_series(*kwargs['coordinates'])\n",
    "        msg = '%s Selected coordinates: %s, Temp:%d C precipitatiom: %d mm\\n' % (\n",
    "        datetime.now(), kwargs['coordinates'], random.randint(-20,20),random.randint(0,100))\n",
    "        out.value = add_log(msg)\n",
    "        \n",
    "m.on_interaction(handle_interaction)\n",
    "\n",
    "def on_map_selected(change):\n",
    "    m.layers = [basemap_to_tiles(maps[basemap_selector.value]), weather_maps[heatmap_selector.value]]\n",
    "    precipitation = TileLayer(min_zoom = 1, max_zoom = 18, url = 'https://maps.openweathermap.org/maps/2.0/radar/{z}/{x}/{y}?appid={API key}&tm={date}')\n",
    "    \n",
    "    basemap_selector.observe(on_map_selected, names = 'value')\n",
    "    heatmap_selector.observe(on_map_selected, names = 'value')\n",
    "    "
   ]
  },
  {
   "cell_type": "code",
   "execution_count": 19,
   "id": "88e1d9cd-afde-48fc-9fc7-d393ab6c97ef",
   "metadata": {},
   "outputs": [],
   "source": [
    "temp = TileLayer(min_zoom=1, max_zoom=18, url='https://tile.openweathermap.org/map/temp_new/{z}/{x}/{y}.png?appid='+OWM_API_KEY, name='owm', attribute='me')\n",
    "precipitation = TileLayer(min_zoom=1, max_zoom=18, url='https://tile.openweathermap.org/map/precipitation_new/{z}/{x}/{y}.png?appid='+OWM_API_KEY, name='owm', attribute='me')"
   ]
  },
  {
   "cell_type": "code",
   "execution_count": 20,
   "id": "61957507-efec-40fa-95d4-bcefefd4856f",
   "metadata": {},
   "outputs": [],
   "source": [
    "weather_maps = {'Temperature':temp,\n",
    "               'precipitation': precipitation}"
   ]
  },
  {
   "cell_type": "code",
   "execution_count": 21,
   "id": "b793dbc2-ab6d-4f2d-b6f0-d5b1f685563c",
   "metadata": {},
   "outputs": [],
   "source": [
    "m.add_layer(weather_maps[heatmap_selector.value])"
   ]
  },
  {
   "cell_type": "code",
   "execution_count": null,
   "id": "3468cc7f-2025-48b1-b9f1-36ea9a168f86",
   "metadata": {},
   "outputs": [],
   "source": []
  }
 ],
 "metadata": {
  "kernelspec": {
   "display_name": "Python 3",
   "language": "python",
   "name": "python3"
  },
  "language_info": {
   "codemirror_mode": {
    "name": "ipython",
    "version": 3
   },
   "file_extension": ".py",
   "mimetype": "text/x-python",
   "name": "python",
   "nbconvert_exporter": "python",
   "pygments_lexer": "ipython3",
   "version": "3.8.8"
  }
 },
 "nbformat": 4,
 "nbformat_minor": 5
}
