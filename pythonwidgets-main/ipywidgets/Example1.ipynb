{
 "cells": [
  {
   "cell_type": "markdown",
   "id": "a51fdac6-7503-4780-9f6d-2999b8a8460e",
   "metadata": {},
   "source": [
    "## widget example\n",
    "This interactive curve can solve any quadrative equation with values within a range of -100 to 100"
   ]
  },
  {
   "cell_type": "code",
   "execution_count": 1,
   "id": "5aa788aa-1478-4507-b391-735b1abf2424",
   "metadata": {},
   "outputs": [],
   "source": [
    "import numpy as np\n",
    "import matplotlib as mpl\n",
    "import matplotlib.pyplot as plt\n",
    "import ipywidgets as widgets\n",
    "import chart_studio \n",
    "from chart_studio import plotly as py\n"
   ]
  },
  {
   "cell_type": "code",
   "execution_count": 3,
   "id": "aac8379f-1873-436c-b191-a43024555d9d",
   "metadata": {},
   "outputs": [],
   "source": [
    "x= np.arange(-10,10,0.5)\n",
    "def plotter(A,B,C):\n",
    "    y = A*x**2+B*x+C\n",
    "    fig=plt.figure(figsize=(10,8))\n",
    "    ax=fig.subplots()\n",
    "    plt.plot(x,y)\n",
    "    plt.grid(True)\n",
    "    plt.ylim(-4,20)\n",
    "    plt.show()\n",
    "    \n",
    "    \n",
    "    "
   ]
  },
  {
   "cell_type": "code",
   "execution_count": 4,
   "id": "8b6d167b-4cea-47d4-a44d-b8da3e9b9631",
   "metadata": {},
   "outputs": [],
   "source": [
    "interactive = widgets.interactive"
   ]
  },
  {
   "cell_type": "code",
   "execution_count": 5,
   "id": "43d5850d-982f-4435-93ea-f970d1bc294a",
   "metadata": {},
   "outputs": [],
   "source": [
    "iplot = interactive(plotter, A=(-10,10,0.5), B=(-10,10,0.5), C=(-10,10,0.5))"
   ]
  },
  {
   "cell_type": "code",
   "execution_count": 6,
   "id": "1c3e0824-62e4-4a6e-9ff2-66d15463cdff",
   "metadata": {},
   "outputs": [
    {
     "data": {
      "application/vnd.jupyter.widget-view+json": {
       "model_id": "aeba22d13b73483f8bb62d235c53764c",
       "version_major": 2,
       "version_minor": 0
      },
      "text/plain": [
       "interactive(children=(FloatSlider(value=0.0, description='A', max=10.0, min=-10.0, step=0.5), FloatSlider(valu…"
      ]
     },
     "metadata": {},
     "output_type": "display_data"
    }
   ],
   "source": [
    "iplot"
   ]
  },
  {
   "cell_type": "code",
   "execution_count": null,
   "id": "c87db966-84be-4346-bea7-5322b47da136",
   "metadata": {},
   "outputs": [],
   "source": []
  },
  {
   "cell_type": "code",
   "execution_count": null,
   "id": "50b741d6-8778-4713-afc8-b8b0afd0e5e0",
   "metadata": {},
   "outputs": [],
   "source": []
  }
 ],
 "metadata": {
  "kernelspec": {
   "display_name": "Python 3",
   "language": "python",
   "name": "python3"
  },
  "language_info": {
   "codemirror_mode": {
    "name": "ipython",
    "version": 3
   },
   "file_extension": ".py",
   "mimetype": "text/x-python",
   "name": "python",
   "nbconvert_exporter": "python",
   "pygments_lexer": "ipython3",
   "version": "3.8.8"
  }
 },
 "nbformat": 4,
 "nbformat_minor": 5
}
