{
 "cells": [
  {
   "cell_type": "markdown",
   "id": "00a5244c-a2ee-4b22-aeac-ffb7c4840313",
   "metadata": {},
   "source": [
    "## Interactive plots with ipywidgets example\n"
   ]
  },
  {
   "cell_type": "markdown",
   "id": "090f6be3-0e78-47e5-90a7-29a1f96e6c78",
   "metadata": {},
   "source": [
    "1. Plot the function $\\mathrm{f(x) = Asin(Bx)}$ and allow the user to interact with A and B\n",
    "\n",
    "2. Plot the function $\\mathrm{f(t) = 3-e^{\\frac{-t}{2}}}$"
   ]
  },
  {
   "cell_type": "code",
   "execution_count": 1,
   "id": "d57c15c2-037d-4577-bc01-f3a1aed2f8a2",
   "metadata": {},
   "outputs": [],
   "source": [
    "import numpy as np\n",
    "import matplotlib.pyplot as plt\n",
    "from ipywidgets import interactive\n",
    "from scipy.constants import pi"
   ]
  },
  {
   "cell_type": "code",
   "execution_count": 2,
   "id": "fb6e167f-cfcd-4309-b41d-36575a205144",
   "metadata": {},
   "outputs": [],
   "source": [
    "x = np.linspace(0,2*pi,100) # 100 points from 0 to 2pi"
   ]
  },
  {
   "cell_type": "code",
   "execution_count": 3,
   "id": "81fb69bf-ac9b-4ea8-9e5f-d4670943cccc",
   "metadata": {},
   "outputs": [],
   "source": [
    "def plotter(A,B):\n",
    "    y = A*np.sin(B*x)\n",
    "    plt.plot(x,y)\n",
    "    plt.grid(True)\n",
    "    plt.ylim(-3,3)\n",
    "    plt.show()"
   ]
  },
  {
   "cell_type": "code",
   "execution_count": 4,
   "id": "e8dd1b75-1a56-4c12-9467-dcc0ea0eae34",
   "metadata": {},
   "outputs": [
    {
     "data": {
      "application/vnd.jupyter.widget-view+json": {
       "model_id": "8250fd6ab49c48eea0c35f81abfd84fd",
       "version_major": 2,
       "version_minor": 0
      },
      "text/plain": [
       "interactive(children=(FloatSlider(value=0.0, description='A', max=3.0, min=-3.0), FloatSlider(value=3.0, descr…"
      ]
     },
     "metadata": {},
     "output_type": "display_data"
    }
   ],
   "source": [
    "iplot = interactive(plotter, A=(-3,3,0.1), B=(1,5,0.5))\n",
    "\n",
    "iplot"
   ]
  },
  {
   "cell_type": "code",
   "execution_count": 5,
   "id": "9bc7f60c-4516-49ed-8e31-c31f6d3548c2",
   "metadata": {},
   "outputs": [],
   "source": [
    "t = np.arange(0,5,0.1)\n",
    "def plotter1(timestep):\n",
    "    y= 3-np.exp(t[:timestep]/2)\n",
    "    plt.plot(t[:timestep], y)\n",
    "    plt.grid(True)\n",
    "    plt.show()"
   ]
  },
  {
   "cell_type": "code",
   "execution_count": 6,
   "id": "a3b9f23d-ad0e-4077-bf9e-c43e9c559050",
   "metadata": {},
   "outputs": [
    {
     "data": {
      "application/vnd.jupyter.widget-view+json": {
       "model_id": "e89086b1b6c947fa89e7a0a2a2dcb280",
       "version_major": 2,
       "version_minor": 0
      },
      "text/plain": [
       "interactive(children=(IntSlider(value=25, description='timestep', max=50, min=1), Output()), _dom_classes=('wi…"
      ]
     },
     "metadata": {},
     "output_type": "display_data"
    }
   ],
   "source": [
    "iplot = interactive(plotter1, timestep=(1,len(t)))\n",
    "iplot"
   ]
  },
  {
   "cell_type": "code",
   "execution_count": null,
   "id": "7bd2def8-e0d7-426d-90a6-0ffbde5692e6",
   "metadata": {},
   "outputs": [],
   "source": []
  },
  {
   "cell_type": "code",
   "execution_count": null,
   "id": "461697a7-6b92-4bae-b48c-ce7b34651334",
   "metadata": {},
   "outputs": [],
   "source": []
  }
 ],
 "metadata": {
  "kernelspec": {
   "display_name": "Python 3",
   "language": "python",
   "name": "python3"
  },
  "language_info": {
   "codemirror_mode": {
    "name": "ipython",
    "version": 3
   },
   "file_extension": ".py",
   "mimetype": "text/x-python",
   "name": "python",
   "nbconvert_exporter": "python",
   "pygments_lexer": "ipython3",
   "version": "3.8.8"
  }
 },
 "nbformat": 4,
 "nbformat_minor": 5
}
