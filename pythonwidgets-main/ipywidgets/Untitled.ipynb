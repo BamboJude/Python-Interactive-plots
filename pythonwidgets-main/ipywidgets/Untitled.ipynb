{
 "cells": [
  {
   "cell_type": "code",
   "execution_count": 1,
   "id": "a69fdb53-9c52-4304-9889-0e4666ba9d09",
   "metadata": {},
   "outputs": [],
   "source": [
    "import ipywidgets as widgets\n",
    "import numpy as np\n",
    "import pandas as pd"
   ]
  },
  {
   "cell_type": "code",
   "execution_count": 2,
   "id": "9227dfb2-a9cf-466f-a606-dbd13de2c091",
   "metadata": {},
   "outputs": [],
   "source": [
    "tabs = widgets.Tab()"
   ]
  },
  {
   "cell_type": "code",
   "execution_count": 3,
   "id": "ef5f9a4b-1f93-4724-b0b8-fa5ca87bcf22",
   "metadata": {},
   "outputs": [],
   "source": [
    "children = []\n"
   ]
  },
  {
   "cell_type": "code",
   "execution_count": 4,
   "id": "b08b880d-998d-4eb0-b5db-be65b13eef1e",
   "metadata": {},
   "outputs": [],
   "source": [
    "tabs.children = children\n",
    "tabs.set_title = (0,\"Upload\")\n",
    "tabs.set_title = (1, \"Describer\")\n",
    "tabs.set_title = (2, \"Plotter\")"
   ]
  },
  {
   "cell_type": "code",
   "execution_count": 5,
   "id": "ab80a56d-ced9-43fe-975d-1334ef7013b2",
   "metadata": {},
   "outputs": [],
   "source": [
    "accordion = widgets.Accordion(children=[])\n",
    "accordion.set_title(0, \"File selector\")\n",
    "accordion.set_title(1, \"Delimiter\")\n",
    "accordion.set_title(2,\"Skip Rows\")"
   ]
  },
  {
   "cell_type": "code",
   "execution_count": 6,
   "id": "ab9aef60-ed49-4390-bf9a-213f722ab0ab",
   "metadata": {},
   "outputs": [],
   "source": [
    "button_preview = widgets.Button(\n",
    "description = 'Preview', \n",
    "    disabled = False,\n",
    "    button_style = 'info',\n",
    "    tooltip = 'Click to preview',\n",
    "    icon = 'search'\n",
    ")"
   ]
  },
  {
   "cell_type": "code",
   "execution_count": null,
   "id": "3cff583c-ed7d-4006-9c49-79c98bf049be",
   "metadata": {},
   "outputs": [],
   "source": []
  },
  {
   "cell_type": "code",
   "execution_count": null,
   "id": "ef61ad27-a75c-4bea-b7eb-6bdf19d51bc4",
   "metadata": {},
   "outputs": [],
   "source": []
  },
  {
   "cell_type": "code",
   "execution_count": null,
   "id": "07c0df9f-af45-4d12-87c6-b6601c8386d0",
   "metadata": {},
   "outputs": [],
   "source": []
  }
 ],
 "metadata": {
  "kernelspec": {
   "display_name": "Python 3",
   "language": "python",
   "name": "python3"
  },
  "language_info": {
   "codemirror_mode": {
    "name": "ipython",
    "version": 3
   },
   "file_extension": ".py",
   "mimetype": "text/x-python",
   "name": "python",
   "nbconvert_exporter": "python",
   "pygments_lexer": "ipython3",
   "version": "3.8.8"
  }
 },
 "nbformat": 4,
 "nbformat_minor": 5
}
