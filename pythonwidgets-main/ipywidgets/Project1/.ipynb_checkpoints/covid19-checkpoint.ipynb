{
 "cells": [
  {
   "cell_type": "code",
   "execution_count": 1,
   "id": "03838d5b-ee43-4d0a-a6b2-00df91171e90",
   "metadata": {},
   "outputs": [],
   "source": [
    "import numpy as np \n",
    "import pandas as pd\n"
   ]
  },
  {
   "cell_type": "code",
   "execution_count": 2,
   "id": "5bb195b0-57b4-45e2-8ca1-aa23d6289cda",
   "metadata": {},
   "outputs": [],
   "source": [
    "df = pd.read_csv('https://covid19.who.int/WHO-COVID-19-global-data.csv')\n"
   ]
  },
  {
   "cell_type": "code",
   "execution_count": 3,
   "id": "09617717-054d-40ba-98e7-ea0326b7f723",
   "metadata": {},
   "outputs": [
    {
     "data": {
      "text/plain": [
       "Index(['Date_reported', 'Country_code', 'Country', 'WHO_region', 'New_cases',\n",
       "       'Cumulative_cases', 'New_deaths', 'Cumulative_deaths'],\n",
       "      dtype='object')"
      ]
     },
     "execution_count": 3,
     "metadata": {},
     "output_type": "execute_result"
    }
   ],
   "source": [
    "df.columns"
   ]
  },
  {
   "cell_type": "markdown",
   "id": "69ceba17-183d-4ceb-b86a-e9e01ffe69ed",
   "metadata": {},
   "source": [
    "## Convert the date column to date time object for easier plotting"
   ]
  },
  {
   "cell_type": "code",
   "execution_count": 4,
   "id": "08f9e1dd-2fba-4a73-8dc5-4d4ac5d5c11a",
   "metadata": {},
   "outputs": [],
   "source": [
    "df['Date_reported'] = pd.to_datetime(df['Date_reported'])\n"
   ]
  },
  {
   "cell_type": "code",
   "execution_count": 5,
   "id": "b16525b1-b847-4fed-8837-17514a80fed8",
   "metadata": {},
   "outputs": [],
   "source": [
    "availableCountries = df['Country'].unique().tolist()"
   ]
  },
  {
   "cell_type": "code",
   "execution_count": 6,
   "id": "67288cb1-9c1b-413f-9a36-13978ec3f1dd",
   "metadata": {},
   "outputs": [],
   "source": [
    "rollingAve = 7\n",
    "\n",
    "r1 = []\n",
    "r2 = []\n",
    "r3 = []\n",
    "r4 = []\n",
    "\n",
    "for c in availableCountries:\n",
    "    usedf = df.loc[df['Country']==c]\n",
    "    r1 += usedf['New_cases'].rolling(rollingAve).mean().to_list()\n",
    "    r2 += usedf['New_deaths'].rolling(rollingAve).mean().tolist()\n",
    "    r3 += usedf['Cumulative_cases'].rolling(rollingAve).mean().tolist()\n",
    "    r4 += usedf['Cumulative_deaths'].rolling(rollingAve).mean().tolist()\n",
    "df['New_cases_rolling'] = np.nan_to_num(r1)\n",
    "df['New_deaths_rolling'] = np.nan_to_num(r2)\n",
    "df['Cumulative_cases_rolling'] = np.nan_to_num(r3)\n",
    "df['Cumulative_deaths_rolling'] = np.nan_to_num(r4)\n",
    "\n",
    "\n",
    "    "
   ]
  },
  {
   "cell_type": "code",
   "execution_count": 8,
   "id": "56c73aa4-9057-4f1e-8344-29dce928e4cf",
   "metadata": {},
   "outputs": [],
   "source": [
    "%matplotlib widget\n",
    "import ipympl\n",
    "\n",
    "import ipywidgets as widgets\n",
    "import matplotlib.pyplot as plt\n",
    "import matplotlib.dates as mdates\n",
    "\n",
    "import mplcursors\n",
    "from IPython.display import display, clear_output"
   ]
  },
  {
   "cell_type": "code",
   "execution_count": 9,
   "id": "70df4cf9-1c84-4daf-aedf-3a54bd7623dd",
   "metadata": {},
   "outputs": [],
   "source": [
    "columns = ['New_cases_rolling', 'New_deaths_rolling', 'cumulative_cases_rolling', 'cumulative_deaths_rolling']\n",
    "options = ['Daily Cases', 'Daily Deaths', 'Cumulative Cases', 'Cumulative Deaths']\n",
    "\n",
    "country = 'United States of America'\n",
    "\n",
    "column = 'new_cases_rolling'"
   ]
  },
  {
   "cell_type": "code",
   "execution_count": null,
   "id": "183666e4-05c6-4a73-8bb7-f79f63a7236f",
   "metadata": {},
   "outputs": [],
   "source": [
    "usedf = df.loc[df['Country']==country].reset_index(drop=True)\n",
    "\n",
    "fig, ax = plt.subplots(figsize=(13,5))\n",
    "line, = ax.plot(usedf['Date_reported'], usedf[column], color='black', linewidth=5)\n",
    "filled=ax.fill_between(usedf['Date_reported'], usedf[column], color = 'gray')\n",
    "\n",
    "ax.xaxis.set_major_formatter(mdates.DateFormatter('%b-%Y'))\n",
    "ax.set_xlim(min(usedf['Date_reported']),max(usedf['Date_reported']))\n",
    "ax.set_xlabel('Date', fontsize = 14, labelpad = 14) \n",
    "\n",
    "ax.set_ylim(0, max(usedf[column]))\n",
    "ax.set_ylabel('COVID-19 Count\\n(7-day rolling average)', fontsize = 14, labelpad = 24)"
   ]
  }
 ],
 "metadata": {
  "kernelspec": {
   "display_name": "Python 3",
   "language": "python",
   "name": "python3"
  },
  "language_info": {
   "codemirror_mode": {
    "name": "ipython",
    "version": 3
   },
   "file_extension": ".py",
   "mimetype": "text/x-python",
   "name": "python",
   "nbconvert_exporter": "python",
   "pygments_lexer": "ipython3",
   "version": "3.8.8"
  }
 },
 "nbformat": 4,
 "nbformat_minor": 5
}
