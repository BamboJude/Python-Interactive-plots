{
 "cells": [
  {
   "cell_type": "code",
   "execution_count": 3,
   "id": "355f93e7-3384-4016-98ed-6e008ee3fc92",
   "metadata": {},
   "outputs": [],
   "source": [
    "import ipywidgets as widgets\n",
    "import matplotlib.pyplot as plt\n",
    "import numpy as np"
   ]
  },
  {
   "cell_type": "code",
   "execution_count": 4,
   "id": "a28e5c26-f211-47d2-bd03-2788c920a885",
   "metadata": {},
   "outputs": [],
   "source": [
    "x = np.linspace(0, 2*np.pi, 1000)"
   ]
  },
  {
   "cell_type": "code",
   "execution_count": 8,
   "id": "b3c4eae2-8033-4659-9647-2636c534a615",
   "metadata": {},
   "outputs": [],
   "source": [
    "def sine_wave(t = 0):\n",
    "    y = np.sin(x+t)\n",
    "    plt.plot(x,y)"
   ]
  },
  {
   "cell_type": "code",
   "execution_count": 13,
   "id": "101af62d-46a4-44de-9dc2-62b35ff211df",
   "metadata": {},
   "outputs": [
    {
     "data": {
      "application/vnd.jupyter.widget-view+json": {
       "model_id": "06d680a2f66e4964ae9c6f74c7fc5991",
       "version_major": 2,
       "version_minor": 0
      },
      "text/plain": [
       "interactive(children=(IntSlider(value=0, description='t', max=20), Output()), _dom_classes=('widget-interact',…"
      ]
     },
     "metadata": {},
     "output_type": "display_data"
    }
   ],
   "source": [
    "widgets.interact(sine_wave, t=(0,20,1));"
   ]
  },
  {
   "cell_type": "code",
   "execution_count": 14,
   "id": "ca7cd9e3-f97e-4c48-a890-9453d898fdde",
   "metadata": {},
   "outputs": [],
   "source": [
    "def cosine_wave(t=0):\n",
    "    y2 = np.cos(x+t)\n",
    "    plt.plot(x,y2)"
   ]
  },
  {
   "cell_type": "code",
   "execution_count": 15,
   "id": "85373d8e-8bee-4e31-812d-1af109a26be8",
   "metadata": {},
   "outputs": [
    {
     "data": {
      "application/vnd.jupyter.widget-view+json": {
       "model_id": "2b8239b011bc4a7c978db799e3beba10",
       "version_major": 2,
       "version_minor": 0
      },
      "text/plain": [
       "interactive(children=(IntSlider(value=0, description='t', max=20), Output()), _dom_classes=('widget-interact',…"
      ]
     },
     "metadata": {},
     "output_type": "display_data"
    }
   ],
   "source": [
    "widgets.interact(cosine_wave, t=(0,20,1));"
   ]
  },
  {
   "cell_type": "markdown",
   "id": "9213f32b-4dce-4c43-b916-a803082f65f5",
   "metadata": {},
   "source": [
    "## Animating the sine and cosine curves"
   ]
  },
  {
   "cell_type": "markdown",
   "id": "7720cec5-1b67-41f6-9328-4eeb0e44b5da",
   "metadata": {},
   "source": [
    "## Animating Sine"
   ]
  },
  {
   "cell_type": "code",
   "execution_count": 17,
   "id": "e1b276a9-e7c7-42bd-b023-8ddf7c2b462a",
   "metadata": {},
   "outputs": [
    {
     "data": {
      "application/vnd.jupyter.widget-view+json": {
       "model_id": "5761ee39cbe0417cac534a8cf257864a",
       "version_major": 2,
       "version_minor": 0
      },
      "text/plain": [
       "interactive(children=(Play(value=0, description='t', max=20), Output()), _dom_classes=('widget-interact',))"
      ]
     },
     "metadata": {},
     "output_type": "display_data"
    }
   ],
   "source": [
    "widgets.interact(sine_wave, t=widgets.Play(min=0, max=20));"
   ]
  },
  {
   "cell_type": "markdown",
   "id": "46314eb2-2919-4ffc-afea-9d9478024a0d",
   "metadata": {},
   "source": [
    "## Animating Cosine"
   ]
  },
  {
   "cell_type": "code",
   "execution_count": 18,
   "id": "e9416260-5a1f-44df-88fe-59158b30e361",
   "metadata": {},
   "outputs": [
    {
     "data": {
      "application/vnd.jupyter.widget-view+json": {
       "model_id": "36525d0d59254779a2f4dd50a8314a83",
       "version_major": 2,
       "version_minor": 0
      },
      "text/plain": [
       "interactive(children=(Play(value=0, description='t', max=20), Output()), _dom_classes=('widget-interact',))"
      ]
     },
     "metadata": {},
     "output_type": "display_data"
    }
   ],
   "source": [
    "widgets.interact(cosine_wave, t=widgets.Play(min=0, max=20));"
   ]
  },
  {
   "cell_type": "code",
   "execution_count": null,
   "id": "dbb96be9-1a12-4107-ad3a-482dd4631b82",
   "metadata": {},
   "outputs": [],
   "source": []
  }
 ],
 "metadata": {
  "kernelspec": {
   "display_name": "Python 3",
   "language": "python",
   "name": "python3"
  },
  "language_info": {
   "codemirror_mode": {
    "name": "ipython",
    "version": 3
   },
   "file_extension": ".py",
   "mimetype": "text/x-python",
   "name": "python",
   "nbconvert_exporter": "python",
   "pygments_lexer": "ipython3",
   "version": "3.8.8"
  }
 },
 "nbformat": 4,
 "nbformat_minor": 5
}
