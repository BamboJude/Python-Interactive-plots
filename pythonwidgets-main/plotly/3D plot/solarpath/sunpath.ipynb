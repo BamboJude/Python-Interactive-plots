{
 "cells": [
  {
   "cell_type": "code",
   "execution_count": 1,
   "id": "5eadc6f2-d28f-4a8e-bd77-68b4208df7c8",
   "metadata": {},
   "outputs": [],
   "source": [
    "import numpy as np\n",
    "import matplotlib.pyplot as plt\n",
    "from ipywidgets import interactive, widgets, HBox,Layout, VBox\n",
    "import random\n",
    "import pandas as pd\n",
    "import ipympl\n",
    "import mplcursors\n",
    "from IPython.display import display, clear_output"
   ]
  },
  {
   "cell_type": "code",
   "execution_count": 1,
   "id": "563f890d-e313-4c79-aae2-7ae7a8a75efb",
   "metadata": {},
   "outputs": [],
   "source": [
    "SunCalc_API = 'https://suncalc.org/#/48.85826,2.29451,17/2015.05.11/13:15/324.0/2'"
   ]
  },
  {
   "cell_type": "code",
   "execution_count": 3,
   "id": "2d8cf165-7969-4706-9b65-b09b25a5b4a8",
   "metadata": {},
   "outputs": [
    {
     "data": {
      "text/plain": [
       "'https://suncalc.org/#/48.85826,2.29451,17/2015.05.11/13:15/324.0/2'"
      ]
     },
     "execution_count": 3,
     "metadata": {},
     "output_type": "execute_result"
    }
   ],
   "source": [
    "SunCalc_API"
   ]
  },
  {
   "cell_type": "code",
   "execution_count": null,
   "id": "65ac2664-7975-449b-b806-58c8cfbfc32f",
   "metadata": {},
   "outputs": [],
   "source": []
  }
 ],
 "metadata": {
  "kernelspec": {
   "display_name": "Python 3",
   "language": "python",
   "name": "python3"
  },
  "language_info": {
   "codemirror_mode": {
    "name": "ipython",
    "version": 3
   },
   "file_extension": ".py",
   "mimetype": "text/x-python",
   "name": "python",
   "nbconvert_exporter": "python",
   "pygments_lexer": "ipython3",
   "version": "3.8.8"
  }
 },
 "nbformat": 4,
 "nbformat_minor": 5
}
