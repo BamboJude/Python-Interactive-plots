{
 "cells": [
  {
   "cell_type": "markdown",
   "id": "58f78b7e-a796-413f-bda9-a52278658d3a",
   "metadata": {},
   "source": [
    "## Figure Widget with plotly.py\n",
    "Friday 20 May 2022.\n",
    "Bambo Jude Afanyu"
   ]
  },
  {
   "cell_type": "code",
   "execution_count": 1,
   "id": "9705704d-f6f4-43cb-aefa-74cbe347ed41",
   "metadata": {},
   "outputs": [],
   "source": [
    "import pandas as pd\n",
    "import numpy as np\n",
    "\n",
    "url = 'https://datahub.io/core/global-temp/r/annual.csv'\n",
    "annual_temp = pd.read_csv(url, sep=\",\")\n"
   ]
  },
  {
   "cell_type": "code",
   "execution_count": 2,
   "id": "fe0f7a4a-cdd8-41d7-b858-573aaab57eac",
   "metadata": {},
   "outputs": [
    {
     "data": {
      "text/html": [
       "<div>\n",
       "<style scoped>\n",
       "    .dataframe tbody tr th:only-of-type {\n",
       "        vertical-align: middle;\n",
       "    }\n",
       "\n",
       "    .dataframe tbody tr th {\n",
       "        vertical-align: top;\n",
       "    }\n",
       "\n",
       "    .dataframe thead th {\n",
       "        text-align: right;\n",
       "    }\n",
       "</style>\n",
       "<table border=\"1\" class=\"dataframe\">\n",
       "  <thead>\n",
       "    <tr style=\"text-align: right;\">\n",
       "      <th></th>\n",
       "      <th>Source</th>\n",
       "      <th>Year</th>\n",
       "      <th>Mean</th>\n",
       "    </tr>\n",
       "  </thead>\n",
       "  <tbody>\n",
       "    <tr>\n",
       "      <th>167</th>\n",
       "      <td>GISTEMP</td>\n",
       "      <td>1933</td>\n",
       "      <td>-0.2900</td>\n",
       "    </tr>\n",
       "    <tr>\n",
       "      <th>99</th>\n",
       "      <td>GISTEMP</td>\n",
       "      <td>1967</td>\n",
       "      <td>-0.0200</td>\n",
       "    </tr>\n",
       "    <tr>\n",
       "      <th>67</th>\n",
       "      <td>GISTEMP</td>\n",
       "      <td>1983</td>\n",
       "      <td>0.3000</td>\n",
       "    </tr>\n",
       "    <tr>\n",
       "      <th>205</th>\n",
       "      <td>GISTEMP</td>\n",
       "      <td>1914</td>\n",
       "      <td>-0.1600</td>\n",
       "    </tr>\n",
       "    <tr>\n",
       "      <th>105</th>\n",
       "      <td>GISTEMP</td>\n",
       "      <td>1964</td>\n",
       "      <td>-0.2000</td>\n",
       "    </tr>\n",
       "    <tr>\n",
       "      <th>147</th>\n",
       "      <td>GISTEMP</td>\n",
       "      <td>1943</td>\n",
       "      <td>0.1300</td>\n",
       "    </tr>\n",
       "    <tr>\n",
       "      <th>54</th>\n",
       "      <td>GCAG</td>\n",
       "      <td>1989</td>\n",
       "      <td>0.2970</td>\n",
       "    </tr>\n",
       "    <tr>\n",
       "      <th>202</th>\n",
       "      <td>GCAG</td>\n",
       "      <td>1915</td>\n",
       "      <td>-0.0693</td>\n",
       "    </tr>\n",
       "    <tr>\n",
       "      <th>12</th>\n",
       "      <td>GCAG</td>\n",
       "      <td>2010</td>\n",
       "      <td>0.7014</td>\n",
       "    </tr>\n",
       "    <tr>\n",
       "      <th>272</th>\n",
       "      <td>GCAG</td>\n",
       "      <td>1880</td>\n",
       "      <td>-0.1148</td>\n",
       "    </tr>\n",
       "  </tbody>\n",
       "</table>\n",
       "</div>"
      ],
      "text/plain": [
       "      Source  Year    Mean\n",
       "167  GISTEMP  1933 -0.2900\n",
       "99   GISTEMP  1967 -0.0200\n",
       "67   GISTEMP  1983  0.3000\n",
       "205  GISTEMP  1914 -0.1600\n",
       "105  GISTEMP  1964 -0.2000\n",
       "147  GISTEMP  1943  0.1300\n",
       "54      GCAG  1989  0.2970\n",
       "202     GCAG  1915 -0.0693\n",
       "12      GCAG  2010  0.7014\n",
       "272     GCAG  1880 -0.1148"
      ]
     },
     "execution_count": 2,
     "metadata": {},
     "output_type": "execute_result"
    }
   ],
   "source": [
    "annual_temp.sample(10)"
   ]
  },
  {
   "cell_type": "markdown",
   "id": "addb1ba6-42f8-4f48-84ba-e74ab7f633f7",
   "metadata": {},
   "source": [
    "## Constructing plotly.py Figure widget\n"
   ]
  },
  {
   "cell_type": "code",
   "execution_count": 3,
   "id": "5f6c7b30-7fae-4d43-be13-192447e5c50f",
   "metadata": {},
   "outputs": [],
   "source": [
    "import plotly.graph_objs as go"
   ]
  },
  {
   "cell_type": "code",
   "execution_count": 4,
   "id": "c48ab794-9679-4572-bb3b-35988d6d8ffd",
   "metadata": {},
   "outputs": [],
   "source": [
    "fig = go.FigureWidget(\n",
    "data=[\n",
    "    dict(\n",
    "    type='scattergl',\n",
    "    x = annual_temp['Year'],\n",
    "    y = annual_temp['Mean'],\n",
    "    mode ='markers')\n",
    "],\n",
    ")\n"
   ]
  },
  {
   "cell_type": "code",
   "execution_count": 5,
   "id": "6ab1d5b1-d177-4c0b-ab1e-e243b51004a9",
   "metadata": {},
   "outputs": [
    {
     "data": {
      "application/vnd.jupyter.widget-view+json": {
       "model_id": "868c268020594e5f90910c9c10791c3c",
       "version_major": 2,
       "version_minor": 0
      },
      "text/plain": [
       "FigureWidget({\n",
       "    'data': [{'mode': 'markers',\n",
       "              'type': 'scattergl',\n",
       "              'uid': '52757…"
      ]
     },
     "metadata": {},
     "output_type": "display_data"
    }
   ],
   "source": [
    "fig"
   ]
  },
  {
   "cell_type": "markdown",
   "id": "4c3e7937-80a5-4554-afb9-23305c85003d",
   "metadata": {},
   "source": [
    "## Labelling Figure\n",
    "\n",
    "The fig.layout.title is used to set the plots title. The plot is updated automatically without having to run the notebook"
   ]
  },
  {
   "cell_type": "code",
   "execution_count": 6,
   "id": "72667143-61cc-4ced-a1b8-cab24364f392",
   "metadata": {},
   "outputs": [],
   "source": [
    "fig.layout.title = 'ANNUAL MEAN TEMPERATURE CHANGE' ## title of plot"
   ]
  },
  {
   "cell_type": "markdown",
   "id": "b02a1821-94e6-47fb-88e1-b12f3ced4e5d",
   "metadata": {},
   "source": [
    "## Increasing font size"
   ]
  },
  {
   "cell_type": "code",
   "execution_count": 7,
   "id": "b8f5aa61-e1cf-4f30-aefc-428bc2702471",
   "metadata": {},
   "outputs": [],
   "source": [
    "fig.layout.titlefont.size = 25"
   ]
  },
  {
   "cell_type": "markdown",
   "id": "22a76981-218a-4a2e-a736-d0f96bcb8a63",
   "metadata": {},
   "source": [
    "## Font family"
   ]
  },
  {
   "cell_type": "code",
   "execution_count": 8,
   "id": "64c90545-9949-44e8-ab7c-aef694f9ec0a",
   "metadata": {},
   "outputs": [],
   "source": [
    "fig.layout.titlefont.family = 'Times' ## font family assigned to times\n"
   ]
  },
  {
   "cell_type": "markdown",
   "id": "f0ffc153-d782-4d7b-a78c-ddad229069b7",
   "metadata": {},
   "source": [
    "## Labelling Axes\n",
    "\n",
    "fig.layout.xaxis.title property to set x axis\n",
    "and fig.layout.yaxis.title for the y axis"
   ]
  },
  {
   "cell_type": "code",
   "execution_count": 9,
   "id": "7604ffd7-59b5-47a4-b2ae-98352431959c",
   "metadata": {},
   "outputs": [],
   "source": [
    "fig.layout.xaxis.title = 'Year' \n",
    "fig.layout.yaxis.title = 'Mean Temperature'"
   ]
  },
  {
   "cell_type": "markdown",
   "id": "453a806c-675c-4f02-afe1-482905bd3275",
   "metadata": {},
   "source": [
    "## Avoiding overplotting"
   ]
  },
  {
   "cell_type": "markdown",
   "id": "1756a244-dae4-4c61-be0e-56241b05bb2d",
   "metadata": {},
   "source": [
    "Apply Jitter"
   ]
  },
  {
   "cell_type": "code",
   "execution_count": 10,
   "id": "c6f5a09d-0c25-4022-92ae-36cb9016302b",
   "metadata": {},
   "outputs": [
    {
     "data": {
      "text/plain": [
       "Scattergl({\n",
       "    'mode': 'markers',\n",
       "    'uid': '527576a7-c327-4325-b061-84ebc167e7fa',\n",
       "    'x': array([2016, 2016, 2015, ..., 1881, 1880, 1880]),\n",
       "    'y': array([ 0.9363,  0.99  ,  0.8998, ..., -0.12  , -0.1148, -0.2   ])\n",
       "})"
      ]
     },
     "execution_count": 10,
     "metadata": {},
     "output_type": "execute_result"
    }
   ],
   "source": [
    "scatter = fig.data[0]\n",
    "scatter"
   ]
  },
  {
   "cell_type": "code",
   "execution_count": 11,
   "id": "09ad33f9-8b7a-48d6-99c4-38a73ff85497",
   "metadata": {},
   "outputs": [],
   "source": [
    "N = len(annual_temp)\n",
    "scatter.x = scatter.x + np.random.rand(N)\n",
    "scatter.y = scatter.y + np.random.rand(N)"
   ]
  },
  {
   "cell_type": "code",
   "execution_count": 12,
   "id": "65a98373-c17d-4134-bc38-ca02dba2721c",
   "metadata": {},
   "outputs": [],
   "source": [
    "import plotly.express as px"
   ]
  },
  {
   "cell_type": "markdown",
   "id": "987ed2a9-4a54-476d-beef-6a47897afffa",
   "metadata": {},
   "source": [
    "## Density Contour"
   ]
  },
  {
   "cell_type": "code",
   "execution_count": 13,
   "id": "b84562ed-337a-424c-b2ca-475ebaa16f8c",
   "metadata": {},
   "outputs": [],
   "source": [
    "contour = fig.add_histogram2dcontour(\n",
    "x = scatter.x, y = scatter.y)"
   ]
  },
  {
   "cell_type": "code",
   "execution_count": 14,
   "id": "1414d528-a66d-4908-b84f-f6f76528ba39",
   "metadata": {},
   "outputs": [],
   "source": [
    "opacity=scatter.marker.opacity\n",
    "size =scatter.marker.opacity"
   ]
  },
  {
   "cell_type": "code",
   "execution_count": null,
   "id": "74a3ebd2-a6d8-442c-9686-2f60be084c87",
   "metadata": {},
   "outputs": [],
   "source": []
  },
  {
   "cell_type": "code",
   "execution_count": null,
   "id": "6d10c44a-f4e3-4d0a-aadf-a5a37d540d9e",
   "metadata": {},
   "outputs": [],
   "source": []
  }
 ],
 "metadata": {
  "kernelspec": {
   "display_name": "Python 3",
   "language": "python",
   "name": "python3"
  },
  "language_info": {
   "codemirror_mode": {
    "name": "ipython",
    "version": 3
   },
   "file_extension": ".py",
   "mimetype": "text/x-python",
   "name": "python",
   "nbconvert_exporter": "python",
   "pygments_lexer": "ipython3",
   "version": "3.8.8"
  }
 },
 "nbformat": 4,
 "nbformat_minor": 5
}
