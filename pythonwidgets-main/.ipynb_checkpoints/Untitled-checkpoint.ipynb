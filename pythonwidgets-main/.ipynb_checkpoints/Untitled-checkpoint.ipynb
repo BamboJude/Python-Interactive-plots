{
 "cells": [
  {
   "cell_type": "code",
   "execution_count": null,
   "id": "9eb8d8e8-2cf2-47bb-baa9-085d83c329c2",
   "metadata": {},
   "outputs": [],
   "source": []
  }
 ],
 "metadata": {
  "kernelspec": {
   "display_name": "Python 3",
   "language": "python",
   "name": "python3"
  },
  "language_info": {
   "codemirror_mode": {
    "name": "ipython",
    "version": 3
   },
   "file_extension": ".py",
   "mimetype": "text/x-python",
   "name": "python",
   "nbconvert_exporter": "python",
   "pygments_lexer": "ipython3",
   "version": "3.8.8"
  }
 },
 "nbformat": 4,
 "nbformat_minor": 5
}
